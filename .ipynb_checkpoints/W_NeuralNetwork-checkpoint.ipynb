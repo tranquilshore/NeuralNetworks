{
 "cells": [
  {
   "cell_type": "code",
   "execution_count": 2,
   "metadata": {
    "collapsed": false
   },
   "outputs": [],
   "source": [
    "#supervised regression using neural network\n",
    "import numpy as np\n",
    "#input\n",
    "X = np.array(([3,5],[5,1],[10,2]),dtype=float)\n",
    "y = np.array(([75], [82], [93]),dtype=float)"
   ]
  },
  {
   "cell_type": "code",
   "execution_count": 7,
   "metadata": {
    "collapsed": false
   },
   "outputs": [],
   "source": [
    "#scaling the data\n",
    "X = X/np.amax(X,axis=0)\n",
    "y = y/100 #max test score is 100"
   ]
  },
  {
   "cell_type": "code",
   "execution_count": 14,
   "metadata": {
    "collapsed": true
   },
   "outputs": [],
   "source": [
    "#designing the neural network\n",
    "class Neural_Network(object):\n",
    "    def __init__(self):\n",
    "        #hyperparameters\n",
    "        self.inputlayersize = 2\n",
    "        self.outputlayersize = 1\n",
    "        self.hiddenlayersize = 3\n",
    "        \n",
    "        #weights\n",
    "        self.w1 = np.random.randn(self.inputlayersize,self.hiddenlayersize)\n",
    "        self.w2 = np.random.randn(self.hiddenlayersize,self.outputlayersize)\n",
    "    \n",
    "    #sigmoid as activation function\n",
    "    def sigmoid(self,z):\n",
    "        return 1/(1+np.exp(-z))\n",
    "    \n",
    "    #forwardpropagation\n",
    "    def forward(self,X):\n",
    "        self.z2 = np.dot(X,self.w1)\n",
    "        self.a2 = self.sigmoid(self.z2)\n",
    "        self.z3 = np.dot(self.a2,self.w2)\n",
    "        yhat = self.sigmoid(self.z3)\n",
    "        return yhat\n",
    "    \n",
    "    #derivative of sigmoid function\n",
    "    def sigmoidprime(self,z):\n",
    "        return np.exp(-z)/((1+np.exp(-z))**2)\n",
    "    \n",
    "    def costfunctionprime(self,X,y):\n",
    "        #computing derivative wrt w1 and w2 J = summation(1/2*(y-yhat)**2)\n",
    "        self.yhat = self.forward(X)\n",
    "        \n",
    "        delta3 = np.multiply(-(y-self.yhat), self.sigmoidprime(self.z3))\n",
    "        djdw2 = np.dot(self.a2.T, delta3)\n",
    "        \n",
    "        delta2 = np.dot(delta3, self.w2.T)*self.sigmoidprime(self,z2)\n",
    "        djdw1 = np.dot(X.T, delta2)\n",
    "        \n",
    "        return djdw1, djdw2"
   ]
  },
  {
   "cell_type": "code",
   "execution_count": 15,
   "metadata": {
    "collapsed": true
   },
   "outputs": [],
   "source": [
    "NN = Neural_Network()"
   ]
  },
  {
   "cell_type": "code",
   "execution_count": null,
   "metadata": {
    "collapsed": false
   },
   "outputs": [],
   "source": []
  }
 ],
 "metadata": {
  "kernelspec": {
   "display_name": "Python 2",
   "language": "python",
   "name": "python2"
  },
  "language_info": {
   "codemirror_mode": {
    "name": "ipython",
    "version": 2
   },
   "file_extension": ".py",
   "mimetype": "text/x-python",
   "name": "python",
   "nbconvert_exporter": "python",
   "pygments_lexer": "ipython2",
   "version": "2.7.12"
  }
 },
 "nbformat": 4,
 "nbformat_minor": 2
}
