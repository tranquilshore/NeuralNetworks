{
 "cells": [
  {
   "cell_type": "code",
   "execution_count": 106,
   "metadata": {
    "collapsed": false,
    "deletable": true,
    "editable": true
   },
   "outputs": [],
   "source": [
    "#supervised regression using neural network\n",
    "import numpy as np\n",
    "#input\n",
    "X = np.array(([3,5],[5,1],[10,2]),dtype=float)\n",
    "#X = np.array(([3,1.5],[2,1],[4,1.5],[3,1],[3.5,0.5],[2,0.5],[5.5,1],[1,1]),dtype=float)\n",
    "y = np.array(([75], [82], [93]),dtype=float)\n",
    "#y = np.array(([1],[0],[1],[0],[1],[0],[1],[0]), dtype=float)"
   ]
  },
  {
   "cell_type": "code",
   "execution_count": 107,
   "metadata": {
    "collapsed": false,
    "deletable": true,
    "editable": true
   },
   "outputs": [],
   "source": [
    "#scaling the data\n",
    "X = X/np.amax(X,axis=0)\n",
    "y = y/100 #max test score is 100"
   ]
  },
  {
   "cell_type": "code",
   "execution_count": 130,
   "metadata": {
    "collapsed": true,
    "deletable": true,
    "editable": true
   },
   "outputs": [],
   "source": [
    "#designing the neural network\n",
    "class Neural_Network(object):\n",
    "    def __init__(self, Lambda=0):\n",
    "        #hyperparameters\n",
    "        self.inputlayersize = 2\n",
    "        self.outputlayersize = 1\n",
    "        self.hiddenlayersize = 3\n",
    "        \n",
    "        #weights\n",
    "        self.w1 = np.random.randn(self.inputlayersize,self.hiddenlayersize)\n",
    "        self.w2 = np.random.randn(self.hiddenlayersize,self.outputlayersize)\n",
    "        \n",
    "        #regularization parameter\n",
    "        self.Lambda = Lambda\n",
    "    \n",
    "    #sigmoid as activation function\n",
    "    def sigmoid(self,z):\n",
    "        return 1/(1+np.exp(-z))\n",
    "    \n",
    "    #forwardpropagation\n",
    "    def forward(self,X):\n",
    "        self.z2 = np.dot(X,self.w1)\n",
    "        self.a2 = self.sigmoid(self.z2)\n",
    "        self.z3 = np.dot(self.a2,self.w2)\n",
    "        yhat = self.sigmoid(self.z3)\n",
    "        return yhat\n",
    "    \n",
    "    #derivative of sigmoid function\n",
    "    def sigmoidprime(self,z):\n",
    "        return np.exp(-z)/((1+np.exp(-z))**2)\n",
    "    \n",
    "    def costfunction(self,X,y):\n",
    "        self.yhat = self.forward(X)\n",
    "        #normalizing by dividing the error term by no. of examples and adding regularization to tune the relative cost\n",
    "        #way one to do this is to add together the square of our weights to our cost function, this way, models with\n",
    "        #larger magnitudes of weights, cost more.\n",
    "        J = 0.5*sum((y-self.yhat)**2)/X.shape[0] + (self.Lambda/2)*(np.sum(self.w1**2) + np.sum(self.w2**2))\n",
    "        return J\n",
    "    \n",
    "    def costfunctionprime(self,X,y):\n",
    "        #computing derivative wrt w1 and w2 J = summation(1/2*(y-yhat)**2)\n",
    "        self.yhat = self.forward(X)\n",
    "        \n",
    "        delta3 = np.multiply(-(y-self.yhat), self.sigmoidprime(self.z3))\n",
    "        #also adding gradient of regularization term\n",
    "        djdw2 = np.dot(self.a2.T, delta3)/X.shape[0] + self.Lambda*self.w2\n",
    "        \n",
    "        delta2 = np.dot(delta3, self.w2.T)*self.sigmoidprime(self.z2)\n",
    "        #also adding gradient of regularization term\n",
    "        djdw1 = np.dot(X.T, delta2)/X.shape[0] + self.Lambda*self.w1\n",
    "        \n",
    "        return djdw1, djdw2\n",
    "    \n",
    "    def getparams(self):\n",
    "        params = np.concatenate((self.w1.ravel(), self.w2.ravel()))\n",
    "        return params\n",
    "    \n",
    "    def setparams(self,params):\n",
    "        w1_start = 0\n",
    "        w1_end = self.hiddenlayersize*self.inputlayersize\n",
    "        self.w1 = np.reshape(params[w1_start:w1_end], (self.inputlayersize, self.hiddenlayersize))\n",
    "        w2_end = w1_end + self.hiddenlayersize*self.outputlayersize\n",
    "        self.w2 = np.reshape(params[w1_end:w2_end],(self.hiddenlayersize, self.outputlayersize))\n",
    "    \n",
    "    def computegradients(self, X,y):\n",
    "        djdw1, djdw2 = self.costfunctionprime(X,y)\n",
    "        return np.concatenate((djdw1.ravel(), djdw2.ravel()))"
   ]
  },
  {
   "cell_type": "code",
   "execution_count": 131,
   "metadata": {
    "collapsed": true,
    "deletable": true,
    "editable": true
   },
   "outputs": [],
   "source": [
    "from scipy import optimize\n",
    "class trainer(object):\n",
    "    def __init__(self, N):\n",
    "        self.N = N\n",
    "        \n",
    "    def costfunctionwrapper(self,params, X,y):\n",
    "        self.N.setparams(params)\n",
    "        cost = self.N.costfunction(X,y)\n",
    "        grad = self.N.computegradients(X,y)\n",
    "        return cost, grad\n",
    "    \n",
    "    def callbackF(self, params):\n",
    "        self.N.setparams(params)\n",
    "        self.J.append(self.N.costfunction(self.X, self.y))\n",
    "        self.testJ.append(self.N.costfunction(self.testx, self.testy))\n",
    "        \n",
    "    def train(self, trainx, trainy, testx, testy):\n",
    "        #internal variable for callback functions\n",
    "        self.X = trainx\n",
    "        self.y = trainy\n",
    "        \n",
    "        self.testx = testx\n",
    "        self.testy = testy\n",
    "        \n",
    "        #make empty list to store costs\n",
    "        self.J = []\n",
    "        self.testJ = []\n",
    "        \n",
    "        params0 = self.N.getparams()\n",
    "        \n",
    "        options = {'maxiter':1000, 'disp': True}\n",
    "        _res = optimize.minimize(self.costfunctionwrapper, params0, jac = True, method='BFGS', args = (trainx,trainy), options=options, callback=self.callbackF)\n",
    "        \n",
    "        self.N.setparams(_res.x)\n",
    "        self.optimizationResults = _res\n",
    "        \n",
    "        "
   ]
  },
  {
   "cell_type": "code",
   "execution_count": 132,
   "metadata": {
    "collapsed": true,
    "deletable": true,
    "editable": true
   },
   "outputs": [],
   "source": [
    "NN = Neural_Network(Lambda=0.001)"
   ]
  },
  {
   "cell_type": "code",
   "execution_count": 133,
   "metadata": {
    "collapsed": true,
    "deletable": true,
    "editable": true
   },
   "outputs": [],
   "source": [
    "T = trainer(NN)"
   ]
  },
  {
   "cell_type": "code",
   "execution_count": 134,
   "metadata": {
    "collapsed": false,
    "deletable": true,
    "editable": true
   },
   "outputs": [
    {
     "name": "stdout",
     "output_type": "stream",
     "text": [
      "Optimization terminated successfully.\n",
      "         Current function value: 0.004364\n",
      "         Iterations: 70\n",
      "         Function evaluations: 72\n",
      "         Gradient evaluations: 72\n"
     ]
    }
   ],
   "source": [
    "T.train(trainx, trainy, testx, testy)"
   ]
  },
  {
   "cell_type": "code",
   "execution_count": 135,
   "metadata": {
    "collapsed": false,
    "deletable": true,
    "editable": true
   },
   "outputs": [
    {
     "data": {
      "text/plain": [
       "<matplotlib.text.Text at 0xdc65710>"
      ]
     },
     "execution_count": 135,
     "metadata": {},
     "output_type": "execute_result"
    },
    {
     "data": {
      "image/png": "[encoded data removed]",
      "text/plain": [
       "<matplotlib.figure.Figure at 0xdc07ef0>"
      ]
     },
     "metadata": {},
     "output_type": "display_data"
    }
   ],
   "source": [
    "%matplotlib inline\n",
    "from matplotlib import pyplot as plt\n",
    "plt.plot(T.J)\n",
    "plt.plot(T.testJ)\n",
    "plt.grid(1)\n",
    "plt.ylabel('Cost')\n",
    "plt.xlabel('Iterations')"
   ]
  },
  {
   "cell_type": "code",
   "execution_count": 136,
   "metadata": {
    "collapsed": false,
    "deletable": true,
    "editable": true
   },
   "outputs": [
    {
     "data": {
      "text/plain": [
       "array([[ 0.87952888],\n",
       "       [ 0.89191937],\n",
       "       [ 0.91145206],\n",
       "       [ 0.90277716]])"
      ]
     },
     "execution_count": 136,
     "metadata": {},
     "output_type": "execute_result"
    }
   ],
   "source": [
    "NN.forward(testx)"
   ]
  },
  {
   "cell_type": "code",
   "execution_count": 112,
   "metadata": {
    "collapsed": true,
    "deletable": true,
    "editable": true
   },
   "outputs": [],
   "source": [
    "scalar = 0.3\n",
    "for i in range(5000):\n",
    "    djdw1, djdw2 = NN.costfunctionprime(X,y)\n",
    "    NN.w1 = NN.w1 - scalar*djdw1\n",
    "    NN.w2 = NN.w2 - scalar*djdw2\n"
   ]
  },
  {
   "cell_type": "code",
   "execution_count": 137,
   "metadata": {
    "collapsed": false,
    "deletable": true,
    "editable": true
   },
   "outputs": [],
   "source": [
    "from numpy import *\n",
    "hourssleep = linspace(0,10,100)\n",
    "hoursstudy = linspace(0,5,100)\n",
    "\n",
    "hourssleepnorm = hourssleep/10\n",
    "hoursstudynorm = hoursstudy/5\n",
    "\n",
    "a,b = meshgrid(hourssleepnorm, hoursstudynorm)\n",
    "\n",
    "allinputs = np.zeros((a.size, 2))\n",
    "allinputs[:,0] = a.ravel()\n",
    "allinputs[:,1] = b.ravel()"
   ]
  },
  {
   "cell_type": "code",
   "execution_count": 138,
   "metadata": {
    "collapsed": true,
    "deletable": true,
    "editable": true
   },
   "outputs": [],
   "source": [
    "alloutputs = NN.forward(allinputs)"
   ]
  },
  {
   "cell_type": "code",
   "execution_count": 141,
   "metadata": {
    "collapsed": false,
    "deletable": true,
    "editable": true
   },
   "outputs": [
    {
     "data": {
      "text/plain": [
       "<matplotlib.text.Text at 0xea17b38>"
      ]
     },
     "execution_count": 141,
     "metadata": {},
     "output_type": "execute_result"
    },
    {
     "data": {
      "image/png": "[encoded data removed]",
      "text/plain": [
       "<matplotlib.figure.Figure at 0xdc2afd0>"
      ]
     },
     "metadata": {},
     "output_type": "display_data"
    }
   ],
   "source": [
    "#%matplotlib qt\n",
    "#%matplotlib inline\n",
    "from numpy import *\n",
    "from matplotlib import *\n",
    "from mpl_toolkits.mplot3d import Axes3D\n",
    "from matplotlib import pyplot as plt\n",
    "\n",
    "yy = np.dot(hoursstudy.reshape(100,1), np.ones((1,100)))\n",
    "xx = np.dot(hourssleep.reshape(100,1), np.ones((1,100))).T\n",
    "\n",
    "\n",
    "fig = plt.figure()\n",
    "ax = fig.gca(projection='3d')\n",
    "ax.scatter(10*X[:,0], 5*X[:,1], 100*y, c='k', alpha = 1, s=30)\n",
    "\n",
    "surf = ax.plot_surface(xx, yy, 100*alloutputs.reshape(100, 100), \\\n",
    "                       cmap=cm.jet)\n",
    "\n",
    "ax.set_xlabel('Hours Sleep')\n",
    "ax.set_ylabel('Hours Study')\n",
    "ax.set_zlabel('Test Score')"
   ]
  },
  {
   "cell_type": "code",
   "execution_count": 126,
   "metadata": {
    "collapsed": false,
    "deletable": true,
    "editable": true
   },
   "outputs": [],
   "source": [
    "NN = Neural_Network()\n",
    "X = np.array(([3,5],[5,1],[10,2],[6,1.5]), dtype=float)\n",
    "y = np.array(([75],[82],[93],[70]), dtype=float)\n",
    "\n",
    "X = X/np.amax(X, axis=0)\n",
    "y = y/100"
   ]
  },
  {
   "cell_type": "code",
   "execution_count": 10,
   "metadata": {
    "collapsed": false
   },
   "outputs": [
    {
     "name": "stdout",
     "output_type": "stream",
     "text": [
      "Optimization terminated successfully.\n",
      "         Current function value: 0.000000\n",
      "         Iterations: 145\n",
      "         Function evaluations: 153\n",
      "         Gradient evaluations: 153\n"
     ]
    }
   ],
   "source": [
    "T = trainer(NN)\n",
    "T.train(X,y)"
   ]
  },
  {
   "cell_type": "code",
   "execution_count": 12,
   "metadata": {
    "collapsed": false
   },
   "outputs": [
    {
     "data": {
      "text/plain": [
       "<matplotlib.text.Text at 0x88169e8>"
      ]
     },
     "execution_count": 12,
     "metadata": {},
     "output_type": "execute_result"
    },
    {
     "data": {
      "image/png": "[encoded data removed]",
      "text/plain": [
       "<matplotlib.figure.Figure at 0x5f6cb00>"
      ]
     },
     "metadata": {},
     "output_type": "display_data"
    }
   ],
   "source": [
    "%matplotlib inline\n",
    "from matplotlib import pyplot as plt\n",
    "plt.plot(T.J)\n",
    "plt.grid(1)\n",
    "plt.xlabel('Iterations')\n",
    "plt.ylabel('Cost')"
   ]
  },
  {
   "cell_type": "code",
   "execution_count": 129,
   "metadata": {
    "collapsed": true
   },
   "outputs": [],
   "source": [
    "#training data\n",
    "trainx = np.array(([3,5],[5,1],[10,2],[6,1.5]), dtype=float)\n",
    "trainy = np.array(([75],[82],[93],[70]), dtype=float)\n",
    "\n",
    "#testing data\n",
    "testx = np.array(([4,5.5],[4.5,1],[9,2.5],[6,2]), dtype=float)\n",
    "testy = np.array(([70],[89],[85],[75]), dtype=float)\n",
    "\n",
    "#normalize\n",
    "trainx = trainx/np.amax(trainx, axis=0)\n",
    "trainy = trainy/100\n",
    "\n",
    "testx = testx/np.amax(trainx, axis=0)\n",
    "testy = testy/100"
   ]
  },
  {
   "cell_type": "code",
   "execution_count": null,
   "metadata": {
    "collapsed": true
   },
   "outputs": [],
   "source": []
  }
 ],
 "metadata": {
  "kernelspec": {
   "display_name": "Python 2",
   "language": "python",
   "name": "python2"
  },
  "language_info": {
   "codemirror_mode": {
    "name": "ipython",
    "version": 2
   },
   "file_extension": ".py",
   "mimetype": "text/x-python",
   "name": "python",
   "nbconvert_exporter": "python",
   "pygments_lexer": "ipython2",
   "version": "2.7.12"
  }
 },
 "nbformat": 4,
 "nbformat_minor": 2
}
