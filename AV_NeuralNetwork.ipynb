{
 "cells": [
  {
   "cell_type": "code",
   "execution_count": 1,
   "metadata": {
    "collapsed": true
   },
   "outputs": [],
   "source": [
    "import numpy as np"
   ]
  },
  {
   "cell_type": "code",
   "execution_count": 3,
   "metadata": {
    "collapsed": true
   },
   "outputs": [],
   "source": [
    "#input array\n",
    "X = np.array([[3,1.5],[2,1],[4,1.5],[3,1],[3.5,0.5],[2,0.5],[5.5,1],[1,1]])\n",
    "#output array\n",
    "y = np.array([[1],[0],[1],[0],[1],[0],[1],[0]])"
   ]
  },
  {
   "cell_type": "code",
   "execution_count": 4,
   "metadata": {
    "collapsed": true
   },
   "outputs": [],
   "source": [
    "#sigmoid\n",
    "def sigmoid(x):\n",
    "    return 1/(1+np.exp(-x))\n",
    "\n",
    "#sigmoid's derivative\n",
    "def d_sigmoid(x):\n",
    "    return x*(1-x)"
   ]
  },
  {
   "cell_type": "code",
   "execution_count": 7,
   "metadata": {
    "collapsed": true
   },
   "outputs": [],
   "source": [
    "#variable declarations\n",
    "epoch = 5000 #learning iterations\n",
    "lr = 0.1 #learning rate\n",
    "inputlayer_neurons = X.shape[1] #number of features in dataset\n",
    "hiddenlayer_neurons = 3 #number of hidden layers neurons\n",
    "output_neurons = 1 #number of neurons in output layer"
   ]
  },
  {
   "cell_type": "code",
   "execution_count": 12,
   "metadata": {
    "collapsed": false
   },
   "outputs": [],
   "source": [
    "#weight and bias random initialization\n",
    "wh = np.random.uniform(size=(inputlayer_neurons,hiddenlayer_neurons))\n",
    "bh = np.random.uniform(size=(1,hiddenlayer_neurons))\n",
    "wout = np.random.uniform(size=(hiddenlayer_neurons,output_neurons))\n",
    "bout = np.random.uniform(size=(1,output_neurons))"
   ]
  },
  {
   "cell_type": "code",
   "execution_count": 15,
   "metadata": {
    "collapsed": false
   },
   "outputs": [
    {
     "name": "stdout",
     "output_type": "stream",
     "text": [
      "[[ 0.76218305]\n",
      " [ 0.00317292]\n",
      " [ 0.99795125]\n",
      " [ 0.34919005]\n",
      " [ 0.79922715]\n",
      " [ 0.00200732]\n",
      " [ 0.99934044]\n",
      " [ 0.0011501 ]]\n"
     ]
    }
   ],
   "source": [
    "#learning loop\n",
    "for i in range(epoch):\n",
    "    #forward propagation\n",
    "    hidden_layer_input = np.dot(X,wh) + bh\n",
    "    hidden_layer_activations = sigmoid(hidden_layer_input)\n",
    "    \n",
    "    output_layer_input = np.dot(hidden_layer_activations,wout) + bout\n",
    "    output = sigmoid(output_layer_input)\n",
    "    \n",
    "    #backpropagation\n",
    "    E = y - output\n",
    "    slope_output_layer = d_sigmoid(output)\n",
    "    slope_hidden_layer = d_sigmoid(hidden_layer_activations)\n",
    "    \n",
    "    d_output = E*slope_output_layer\n",
    "    d_hidden_layer = d_output.dot(wout.T)*slope_hidden_layer\n",
    "    \n",
    "    wout += hidden_layer_activations.T.dot(d_output)*lr\n",
    "    bout += np.sum(d_output, axis=0, keepdims=True)*lr\n",
    "    \n",
    "    wh += X.T.dot(d_hidden_layer)*lr\n",
    "    bh += np.sum(d_hidden_layer, axis=0, keepdims=True)*lr\n",
    "    \n",
    "print output\n",
    "    \n",
    "    "
   ]
  },
  {
   "cell_type": "code",
   "execution_count": 20,
   "metadata": {
    "collapsed": false
   },
   "outputs": [],
   "source": [
    "X_test = np.array([[[1.5,0.8],[5,1]]])"
   ]
  },
  {
   "cell_type": "code",
   "execution_count": null,
   "metadata": {
    "collapsed": true
   },
   "outputs": [],
   "source": []
  }
 ],
 "metadata": {
  "kernelspec": {
   "display_name": "Python 2",
   "language": "python",
   "name": "python2"
  },
  "language_info": {
   "codemirror_mode": {
    "name": "ipython",
    "version": 2
   },
   "file_extension": ".py",
   "mimetype": "text/x-python",
   "name": "python",
   "nbconvert_exporter": "python",
   "pygments_lexer": "ipython2",
   "version": "2.7.12"
  }
 },
 "nbformat": 4,
 "nbformat_minor": 2
}
